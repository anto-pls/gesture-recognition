{
  "nbformat": 4,
  "nbformat_minor": 0,
  "metadata": {
    "colab": {
      "provenance": []
    },
    "kernelspec": {
      "name": "python3",
      "display_name": "Python 3"
    },
    "language_info": {
      "name": "python"
    }
  },
  "cells": [
    {
      "cell_type": "code",
      "execution_count": 1,
      "metadata": {
        "id": "-YN08J_IXFlE"
      },
      "outputs": [],
      "source": [
        "import numpy as np\n",
        "import pandas as pd\n",
        "import string\n",
        "import os\n",
        "import torch\n",
        "import torch.nn as nn\n",
        "import torch.nn.functional as F\n",
        "import torch.optim as optim\n",
        "from torch.autograd import Variable\n",
        "import matplotlib.pyplot as plt"
      ]
    },
    {
      "cell_type": "code",
      "source": [
        "train_csv = pd.read_csv('./data/sign_mnist_train.csv', sep=\",\")\n",
        "test_csv = pd.read_csv('./data/sign_mnist_test.csv', sep=\",\")\n",
        "\n",
        "train_labels = train_csv['label']\n",
        "train_csv.drop('label', axis=1, inplace=True)\n",
        "\n",
        "test_labels = test_csv['label']\n",
        "test_csv.drop('label', axis=1, inplace=True)\n",
        "\n",
        "train_data = train_csv.values\n",
        "train_labels = train_labels.values\n",
        "\n",
        "test_data = test_csv.values\n",
        "test_labels = test_labels.values"
      ],
      "metadata": {
        "id": "TBnN_NSb_6JT"
      },
      "execution_count": 3,
      "outputs": []
    },
    {
      "cell_type": "code",
      "source": [
        "def reshape_2d(data,dim):\n",
        "    reshaped = []\n",
        "    for i in data:\n",
        "        reshaped.append(i.reshape(1,dim,dim))\n",
        "\n",
        "    return np.array(reshaped)"
      ],
      "metadata": {
        "id": "EoSTu4lt__nq"
      },
      "execution_count": 4,
      "outputs": []
    },
    {
      "cell_type": "code",
      "source": [
        "train_data = reshape_2d(train_data,28)\n",
        "test_data = reshape_2d(test_data,28)\n",
        "\n",
        "train_data = torch.FloatTensor(train_data)\n",
        "train_labels = torch.LongTensor(train_labels.tolist())\n",
        "\n",
        "test_data = torch.FloatTensor(train_data)\n",
        "test_labels = torch.LongTensor(train_labels.tolist())"
      ],
      "metadata": {
        "id": "KiAHjGA7AE9Z"
      },
      "execution_count": 5,
      "outputs": []
    },
    {
      "cell_type": "code",
      "source": [
        "Alph_labels = {0: 'A', 1: 'B', 2: 'C', 3: 'D', 4: 'E', 5: 'F', 6: 'G', 7: 'H', 8: 'I',\n",
        "        10: 'K', 11: 'L', 12: 'M', 13: 'N', 14: 'O', 15: 'P', 16: 'Q', 17: 'R',\n",
        "        18: 'S', 19: 'T', 20: 'U', 21: 'V', 22: 'W', 23: 'X', 24: 'Y' }\n"
      ],
      "metadata": {
        "id": "syQQkCW7AKeC"
      },
      "execution_count": 6,
      "outputs": []
    },
    {
      "cell_type": "code",
      "source": [
        "class CNN(nn.Module):\n",
        "    def __init__(self):\n",
        "        super(CNN, self).__init__()\n",
        "\n",
        "        self.conv1 = nn.Sequential(\n",
        "            nn.Conv2d(in_channels=1, out_channels= 10, kernel_size = 3),\n",
        "            nn.ReLU(),\n",
        "            nn.MaxPool2d(kernel_size = 2, stride = 2)\n",
        "        )\n",
        "\n",
        "        self.conv2 = nn.Sequential(\n",
        "            nn.Conv2d(10, 20, 3),\n",
        "            nn.ReLU(),\n",
        "            nn.MaxPool2d(2)\n",
        "        )\n",
        "\n",
        "        self.conv3 = nn.Sequential(\n",
        "            nn.Conv2d(20, 30, 3),\n",
        "            nn.ReLU(),\n",
        "            nn.Dropout2d()\n",
        "        )\n",
        "\n",
        "        self.fc = nn.Sequential(\n",
        "            nn.Linear(270, 270),\n",
        "            nn.ReLU(),\n",
        "            nn.Linear(270, 26),\n",
        "            nn.ReLU(),\n",
        "\n",
        "        )\n",
        "\n",
        "    def forward(self, x):\n",
        "        x = self.conv1(x)\n",
        "        x = self.conv2(x)\n",
        "        x = self.conv3(x)\n",
        "        x = torch.flatten(x, 1)\n",
        "        x = self.fc(x)\n",
        "        self.softmax = nn.LogSoftmax(dim=1)\n",
        "        #return x\n",
        "\n",
        "        return self.softmax(x)\n",
        ""
      ],
      "metadata": {
        "id": "d359FnQoALNn"
      },
      "execution_count": 7,
      "outputs": []
    },
    {
      "cell_type": "code",
      "source": [
        "model = CNN()\n",
        "device = torch.device(\"cuda:0\" if torch.cuda.is_available() else \"cpu\")\n",
        "#device = \"cpu\"\n",
        "model.to(device)\n",
        "\n",
        "test_data, test_labels = test_data.to(device), test_labels.to(device)\n",
        "train_data, train_labels = train_data.to(device), train_labels.to(device)"
      ],
      "metadata": {
        "id": "k58qddX_ANtf"
      },
      "execution_count": 8,
      "outputs": []
    },
    {
      "cell_type": "code",
      "source": [
        "random_data = torch.rand((1, 1, 28, 28))\n",
        "\n",
        "my_nn = CNN()\n",
        "result = my_nn(random_data)\n",
        "print (result)"
      ],
      "metadata": {
        "id": "W--flKlGAO_1",
        "colab": {
          "base_uri": "https://localhost:8080/"
        },
        "outputId": "565e09c2-f69b-45fb-b97f-95e0be5262c6"
      },
      "execution_count": 9,
      "outputs": [
        {
          "output_type": "stream",
          "name": "stdout",
          "text": [
            "tensor([[-3.2578, -3.1911, -3.2145, -3.2904, -3.2862, -3.2777, -3.2904, -3.2035,\n",
            "         -3.2794, -3.2767, -3.2904, -3.2712, -3.2904, -3.2133, -3.2039, -3.2047,\n",
            "         -3.2468, -3.2904, -3.2370, -3.2756, -3.2836, -3.2904, -3.2904, -3.2904,\n",
            "         -3.2285, -3.2504]], grad_fn=<LogSoftmaxBackward0>)\n"
          ]
        }
      ]
    },
    {
      "cell_type": "code",
      "source": [
        "epochs = 100\n",
        "batch_size = 100\n",
        "learning_rate = 0.001\n",
        "\n",
        "optimizer = optim.SGD(model.parameters(), learning_rate, momentum=0.7)\n",
        "loss_fn = nn.CrossEntropyLoss()"
      ],
      "metadata": {
        "id": "BNPESI8XAQZb"
      },
      "execution_count": 10,
      "outputs": []
    },
    {
      "cell_type": "code",
      "source": [
        "loss_log = []\n",
        "acc_log = []\n",
        "\n",
        "for e in range(epochs):\n",
        "    for i in range(0, train_data.shape[0], batch_size):\n",
        "        train = train_data[i:i + batch_size]\n",
        "        labels = train_labels[i:i + batch_size]\n",
        "\n",
        "\n",
        "\n",
        "        pred = model(Variable(train))\n",
        "        loss = loss_fn(pred, Variable(labels))\n",
        "        optimizer.zero_grad()\n",
        "        loss.backward()\n",
        "        optimizer.step()\n",
        "\n",
        "        if i % 100 == 0:\n",
        "            #pred = net(Variable(test_data_formated))\n",
        "            loss_log.append(loss.item())\n",
        "            #acc_log.append(model.evaluate(torch.max(model(Variable(test_x[:500])).data, 1)[1], test_y[:500]))\n",
        "\n",
        "    #print('Epoch: {} - Loss: {:.6f}'.format(e + 1, loss.item()))"
      ],
      "metadata": {
        "id": "GKA0pxE8ASRz",
        "colab": {
          "base_uri": "https://localhost:8080/"
        },
        "collapsed": true,
        "outputId": "4a8123e0-d4ea-4574-9140-1bd40d12842c"
      },
      "execution_count": 11,
      "outputs": [
        {
          "output_type": "stream",
          "name": "stdout",
          "text": [
            "Epoch: 1 - Loss: 2.714922\n",
            "Epoch: 2 - Loss: 2.397231\n",
            "Epoch: 3 - Loss: 2.085758\n",
            "Epoch: 4 - Loss: 2.096905\n",
            "Epoch: 5 - Loss: 1.860308\n",
            "Epoch: 6 - Loss: 1.841910\n",
            "Epoch: 7 - Loss: 1.365453\n",
            "Epoch: 8 - Loss: 1.445416\n",
            "Epoch: 9 - Loss: 1.201793\n",
            "Epoch: 10 - Loss: 1.126538\n",
            "Epoch: 11 - Loss: 1.031424\n",
            "Epoch: 12 - Loss: 0.970790\n",
            "Epoch: 13 - Loss: 0.888953\n",
            "Epoch: 14 - Loss: 0.968823\n",
            "Epoch: 15 - Loss: 0.797810\n",
            "Epoch: 16 - Loss: 0.880297\n",
            "Epoch: 17 - Loss: 0.809458\n",
            "Epoch: 18 - Loss: 0.451928\n",
            "Epoch: 19 - Loss: 0.340169\n",
            "Epoch: 20 - Loss: 0.713187\n",
            "Epoch: 21 - Loss: 0.436399\n",
            "Epoch: 22 - Loss: 0.495099\n",
            "Epoch: 23 - Loss: 0.503713\n",
            "Epoch: 24 - Loss: 0.406178\n",
            "Epoch: 25 - Loss: 0.325999\n",
            "Epoch: 26 - Loss: 0.341638\n",
            "Epoch: 27 - Loss: 0.372296\n",
            "Epoch: 28 - Loss: 0.380078\n",
            "Epoch: 29 - Loss: 0.372283\n",
            "Epoch: 30 - Loss: 0.301819\n",
            "Epoch: 31 - Loss: 0.255138\n",
            "Epoch: 32 - Loss: 0.268213\n",
            "Epoch: 33 - Loss: 0.254826\n",
            "Epoch: 34 - Loss: 0.358610\n",
            "Epoch: 35 - Loss: 0.379406\n",
            "Epoch: 36 - Loss: 0.355838\n",
            "Epoch: 37 - Loss: 0.263551\n",
            "Epoch: 38 - Loss: 0.219793\n",
            "Epoch: 39 - Loss: 0.243495\n",
            "Epoch: 40 - Loss: 0.318552\n",
            "Epoch: 41 - Loss: 0.273371\n",
            "Epoch: 42 - Loss: 0.231072\n",
            "Epoch: 43 - Loss: 0.256018\n",
            "Epoch: 44 - Loss: 0.240644\n",
            "Epoch: 45 - Loss: 0.289157\n",
            "Epoch: 46 - Loss: 0.219712\n",
            "Epoch: 47 - Loss: 0.215190\n",
            "Epoch: 48 - Loss: 0.239819\n",
            "Epoch: 49 - Loss: 0.199009\n",
            "Epoch: 50 - Loss: 0.251101\n",
            "Epoch: 51 - Loss: 0.225854\n",
            "Epoch: 52 - Loss: 0.280530\n",
            "Epoch: 53 - Loss: 0.186209\n",
            "Epoch: 54 - Loss: 0.092259\n",
            "Epoch: 55 - Loss: 0.047789\n",
            "Epoch: 56 - Loss: 0.087480\n",
            "Epoch: 57 - Loss: 0.020527\n",
            "Epoch: 58 - Loss: 0.050487\n",
            "Epoch: 59 - Loss: 0.005532\n",
            "Epoch: 60 - Loss: 0.071582\n",
            "Epoch: 61 - Loss: 0.177812\n",
            "Epoch: 62 - Loss: 0.091877\n",
            "Epoch: 63 - Loss: 0.081534\n",
            "Epoch: 64 - Loss: 0.044464\n",
            "Epoch: 65 - Loss: 0.150000\n",
            "Epoch: 66 - Loss: 0.033423\n",
            "Epoch: 67 - Loss: 0.045044\n",
            "Epoch: 68 - Loss: 0.056803\n",
            "Epoch: 69 - Loss: 0.030621\n",
            "Epoch: 70 - Loss: 0.169666\n",
            "Epoch: 71 - Loss: 0.009369\n",
            "Epoch: 72 - Loss: 0.120673\n",
            "Epoch: 73 - Loss: 0.110396\n",
            "Epoch: 74 - Loss: 0.087040\n",
            "Epoch: 75 - Loss: 0.099657\n",
            "Epoch: 76 - Loss: 0.020457\n",
            "Epoch: 77 - Loss: 0.030357\n",
            "Epoch: 78 - Loss: 0.038288\n",
            "Epoch: 79 - Loss: 0.028560\n",
            "Epoch: 80 - Loss: 0.058045\n",
            "Epoch: 81 - Loss: 0.011192\n",
            "Epoch: 82 - Loss: 0.013412\n",
            "Epoch: 83 - Loss: 0.006784\n",
            "Epoch: 84 - Loss: 0.018786\n",
            "Epoch: 85 - Loss: 0.012067\n",
            "Epoch: 86 - Loss: 0.058460\n",
            "Epoch: 87 - Loss: 0.005174\n",
            "Epoch: 88 - Loss: 0.002126\n",
            "Epoch: 89 - Loss: 0.040301\n",
            "Epoch: 90 - Loss: 0.011139\n",
            "Epoch: 91 - Loss: 0.015191\n",
            "Epoch: 92 - Loss: 0.007830\n",
            "Epoch: 93 - Loss: 0.009117\n",
            "Epoch: 94 - Loss: 0.014835\n",
            "Epoch: 95 - Loss: 0.001634\n",
            "Epoch: 96 - Loss: 0.036179\n",
            "Epoch: 97 - Loss: 0.026416\n",
            "Epoch: 98 - Loss: 0.004425\n",
            "Epoch: 99 - Loss: 0.011503\n",
            "Epoch: 100 - Loss: 0.025815\n"
          ]
        }
      ]
    },
    {
      "cell_type": "code",
      "source": [
        "sample = 4\n",
        "pixels = test_data[sample].reshape(28, 28)\n",
        "\n",
        "label = test_labels[sample]\n",
        "test_sample = torch.FloatTensor([test_data[sample].reshape(1, 28, 28).tolist()])\n",
        "test_var_sample = Variable(test_sample).to(device)\n",
        "net_out_sample = model(test_var_sample)\n"
      ],
      "metadata": {
        "id": "U8LYoInYATHN"
      },
      "execution_count": 21,
      "outputs": []
    },
    {
      "cell_type": "code",
      "source": [
        "plt.imshow(test_data[sample].reshape(28, 28))\n",
        "plt.xlabel(f\"Prediction:{np.argmax(net_out_sample.detach().cpu().numpy())}, Actual Value:{test_labels[sample]}\") # Convert net_out_sample to NumPy array\n",
        "plt.show()"
      ],
      "metadata": {
        "colab": {
          "base_uri": "https://localhost:8080/",
          "height": 449
        },
        "id": "C8VEP8jrnvJC",
        "outputId": "f7638046-b2f2-4518-e693-e6f9240da2a4"
      },
      "execution_count": 22,
      "outputs": [
        {
          "output_type": "display_data",
          "data": {
            "text/plain": [
              "<Figure size 640x480 with 1 Axes>"
            ],
            "image/png": "[encoded data removed]"
          },
          "metadata": {}
        }
      ]
    },
    {
      "cell_type": "code",
      "source": [],
      "metadata": {
        "id": "zy8Vv3tDhyjw"
      },
      "execution_count": null,
      "outputs": []
    }
  ]
}